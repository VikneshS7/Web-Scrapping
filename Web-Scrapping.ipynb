{
 "cells": [
  {
   "cell_type": "code",
   "execution_count": 23,
   "id": "a08177b4",
   "metadata": {},
   "outputs": [
    {
     "name": "stdout",
     "output_type": "stream",
     "text": [
      "        Apple iPhone 13 (256GB) - (Product) RED       \n",
      "₹79,999\n",
      "Capacity   256 GB    \n",
      " \n",
      "2022-06-13\n"
     ]
    }
   ],
   "source": [
    "from bs4 import BeautifulSoup\n",
    "import requests\n",
    "import time\n",
    "import datetime\n",
    "\n",
    "import smtplib\n",
    "\n",
    "\n",
    "\n",
    "URL = 'https://www.amazon.in/dp/B09G9HDN4Q/ref=redir_mobile_desktop?_encoding=UTF8&aaxitk=ef5999a9624cbf0717060ca6f1b989f2&content-id=amzn1.sym.c679a10e-5f33-4f2e-b014-f92eed44a58f%3Aamzn1.sym.c679a10e-5f33-4f2e-b014-f92eed44a58f&hsa_cr_id=1681504330102&pd_rd_plhdr=t&pd_rd_r=25fa4de0-8428-4111-945e-fe5064ed0159&pd_rd_w=HLJwP&pd_rd_wg=35Ume&qid=1655111181&ref_=sbx_be_s_sparkle_atgssd2_asin_0_img&sr=1-1-fd947bf3-57d2-4cc9-939d-2805f92cef28'\n",
    "\n",
    "headers = {\"User-Agent\": \"Mozilla/5.0 (Windows NT 10.0; Win64; x64) AppleWebKit/537.36 (KHTML, like Gecko) Chrome/102.0.5005.63 Safari/537.36\", \n",
    "    \"X-Amzn-Trace-Id\": \"Root=1-62a6fdd7-6e0ce75845156596257a0929\"}\n",
    "\n",
    "page = requests.get(URL, headers=headers)\n",
    "\n",
    "soup1 = BeautifulSoup(page.content, \"html.parser\")\n",
    "\n",
    "soup2 = BeautifulSoup(page.content, \"html.parser\")\n",
    "\n",
    "soup3 = BeautifulSoup(page.content, \"html.parser\")\n",
    "\n",
    "title = soup1.find(id='productTitle').get_text()\n",
    "\n",
    "pric = soup2.find(id='corePriceDisplay_desktop_feature_div').get_text()\n",
    "price = pric[8:15]\n",
    "\n",
    "featur = soup3.find(id='productOverview_feature_div').get_text()\n",
    "feature = featur[148:]\n",
    "\n",
    "print(title)\n",
    "\n",
    "print(price)\n",
    "\n",
    "print(feature)\n",
    "\n",
    "import datetime\n",
    "\n",
    "today = datetime.date.today()\n",
    "\n",
    "print(today)\n"
   ]
  },
  {
   "cell_type": "code",
   "execution_count": 24,
   "id": "795a8465",
   "metadata": {},
   "outputs": [],
   "source": [
    "import csv \n",
    "\n",
    "header = ['Title', 'Price', 'Date', 'Variant']\n",
    "data = [title, price, today, feature]\n",
    "\n",
    "\n",
    "with open('AmazonWebScraperDataset.csv', 'w', newline ='', encoding='UTF8') as f:\n",
    "    writer = csv.writer(f)\n",
    "    writer.writerow(header)\n",
    "    writer.writerow(data)"
   ]
  },
  {
   "cell_type": "code",
   "execution_count": 25,
   "id": "cd6d3971",
   "metadata": {},
   "outputs": [
    {
     "name": "stdout",
     "output_type": "stream",
     "text": [
      "                                               Title    Price        Date  \\\n",
      "0          Apple iPhone 13 (256GB) - (Product) RE...  ₹79,999  2022-06-13   \n",
      "\n",
      "                    Variant  \n",
      "0  Capacity   256 GB    \\n   \n"
     ]
    }
   ],
   "source": [
    "import pandas as pd\n",
    "\n",
    "df = pd.read_csv(r'C:\\Users\\ashvi\\AmazonWebScraperDataset.csv')\n",
    "\n",
    "print(df)"
   ]
  },
  {
   "cell_type": "code",
   "execution_count": 26,
   "id": "e38cb3fb",
   "metadata": {},
   "outputs": [],
   "source": [
    "with open('AmazonWebScraperDataset.csv', 'a+', newline='', encoding='UTF8') as f:\n",
    "    writer = csv.writer(f)\n",
    "    writer.writerow(data)"
   ]
  },
  {
   "cell_type": "code",
   "execution_count": 27,
   "id": "aa213025",
   "metadata": {},
   "outputs": [
    {
     "data": {
      "text/html": [
       "<div>\n",
       "<style scoped>\n",
       "    .dataframe tbody tr th:only-of-type {\n",
       "        vertical-align: middle;\n",
       "    }\n",
       "\n",
       "    .dataframe tbody tr th {\n",
       "        vertical-align: top;\n",
       "    }\n",
       "\n",
       "    .dataframe thead th {\n",
       "        text-align: right;\n",
       "    }\n",
       "</style>\n",
       "<table border=\"1\" class=\"dataframe\">\n",
       "  <thead>\n",
       "    <tr style=\"text-align: right;\">\n",
       "      <th></th>\n",
       "      <th>Title</th>\n",
       "      <th>Price</th>\n",
       "      <th>Date</th>\n",
       "      <th>Variant</th>\n",
       "    </tr>\n",
       "  </thead>\n",
       "  <tbody>\n",
       "    <tr>\n",
       "      <th>0</th>\n",
       "      <td>Apple iPhone 13 (256GB) - (Product) RE...</td>\n",
       "      <td>₹79,999</td>\n",
       "      <td>2022-06-13</td>\n",
       "      <td>Capacity   256 GB    \\n</td>\n",
       "    </tr>\n",
       "  </tbody>\n",
       "</table>\n",
       "</div>"
      ],
      "text/plain": [
       "                                               Title    Price        Date  \\\n",
       "0          Apple iPhone 13 (256GB) - (Product) RE...  ₹79,999  2022-06-13   \n",
       "\n",
       "                    Variant  \n",
       "0  Capacity   256 GB    \\n   "
      ]
     },
     "execution_count": 27,
     "metadata": {},
     "output_type": "execute_result"
    }
   ],
   "source": [
    "df"
   ]
  },
  {
   "cell_type": "code",
   "execution_count": null,
   "id": "3ee012d9",
   "metadata": {},
   "outputs": [],
   "source": []
  }
 ],
 "metadata": {
  "kernelspec": {
   "display_name": "Python 3 (ipykernel)",
   "language": "python",
   "name": "python3"
  },
  "language_info": {
   "codemirror_mode": {
    "name": "ipython",
    "version": 3
   },
   "file_extension": ".py",
   "mimetype": "text/x-python",
   "name": "python",
   "nbconvert_exporter": "python",
   "pygments_lexer": "ipython3",
   "version": "3.9.7"
  }
 },
 "nbformat": 4,
 "nbformat_minor": 5
}
